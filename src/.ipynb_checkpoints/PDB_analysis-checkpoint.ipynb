{
 "cells": [
  {
   "cell_type": "markdown",
   "id": "a13fcd8d-41f4-4d73-b02e-e42577212c26",
   "metadata": {},
   "source": [
    "# Identifying SEQRES and ATOM from the PDB file"
   ]
  },
  {
   "cell_type": "code",
   "execution_count": 1,
   "id": "0d042c27",
   "metadata": {
    "vscode": {
     "languageId": "plaintext"
    }
   },
   "outputs": [
    {
     "name": "stdout",
     "output_type": "stream",
     "text": [
      "SEQRES length: 244\n",
      "ATOM length:   229\n",
      "Missing SEQRES positions (0-based): [0, 1, 2, 3, 4, 5, 6, 7, 8, 9, 10, 11, 12, 13, 14]\n",
      "Missing N-term fragment (1-letter): MPGEIRPTIGQQMET\n"
     ]
    }
   ],
   "source": [
    "from typing import List, Tuple, Dict\n",
    "\n",
    "AA3_TO_AA1 = {\n",
    "    \"ALA\":\"A\",\"ARG\":\"R\",\"ASN\":\"N\",\"ASP\":\"D\",\"CYS\":\"C\",\"GLN\":\"Q\",\"GLU\":\"E\",\"GLY\":\"G\",\n",
    "    \"HIS\":\"H\",\"ILE\":\"I\",\"LEU\":\"L\",\"LYS\":\"K\",\"MET\":\"M\",\"PHE\":\"F\",\"PRO\":\"P\",\"SER\":\"S\",\n",
    "    \"THR\":\"T\",\"TRP\":\"W\",\"TYR\":\"Y\",\"VAL\":\"V\",\n",
    "    \"MSE\":\"M\",\"ASX\":\"B\",\"GLX\":\"Z\",\"SEC\":\"U\",\"PYL\":\"O\",\"UNK\":\"X\"\n",
    "}\n",
    "\n",
    "def _nw_align(a: str, b: str) -> Tuple[List[int], List[int]]:\n",
    "    n, m = len(a), len(b)\n",
    "    gap, match, mism = -1, 1, -1\n",
    "    S = [[0]*(m+1) for _ in range(n+1)]\n",
    "    P = [[None]*(m+1) for _ in range(n+1)]\n",
    "    for i in range(1, n+1): S[i][0], P[i][0] = i*gap, 'U'\n",
    "    for j in range(1, m+1): S[0][j], P[0][j] = j*gap, 'L'\n",
    "    for i in range(1, n+1):\n",
    "        ai = a[i-1]\n",
    "        for j in range(1, m+1):\n",
    "            bj = b[j-1]\n",
    "            d = S[i-1][j-1] + (match if ai==bj else mism)\n",
    "            u = S[i-1][j] + gap\n",
    "            l = S[i][j-1] + gap\n",
    "            best = max(d,u,l)\n",
    "            S[i][j] = best\n",
    "            P[i][j] = 'D' if best==d else ('U' if best==u else 'L')\n",
    "    i, j = n, m\n",
    "    pairs = []\n",
    "    while i>0 or j>0:\n",
    "        if i>0 and j>0 and P[i][j]=='D':\n",
    "            if a[i-1]==b[j-1]:\n",
    "                pairs.append((i-1, j-1))\n",
    "            i, j = i-1, j-1\n",
    "        elif i>0 and (j==0 or P[i][j]=='U'):\n",
    "            i -= 1\n",
    "        else:\n",
    "            j -= 1\n",
    "    pairs.reverse()\n",
    "    return [i for i,_ in pairs], [j for _,j in pairs]\n",
    "\n",
    "def parse_chain_atom_and_seqres_with_mapping(pdb_path: str, chain_id: str):\n",
    "    seqres_aa3: List[str] = []\n",
    "    atom_seq: List[str] = []\n",
    "    atom_resids: List[str] = []  \n",
    "    seen = set()\n",
    "\n",
    "    with open(pdb_path, \"r\", errors=\"ignore\") as fh:\n",
    "        for line in fh:\n",
    "            rec = line[:6]\n",
    "            if rec == \"SEQRES\" and line[11].strip() == chain_id:\n",
    "                seqres_aa3.extend(line[19:70].split())\n",
    "\n",
    "    with open(pdb_path, \"r\", errors=\"ignore\") as fh:\n",
    "        for line in fh:\n",
    "            if not (line.startswith(\"ATOM\") or line.startswith(\"HETATM\")):\n",
    "                continue\n",
    "            if line[21].strip() != chain_id:\n",
    "                continue\n",
    "            resname = line[17:20].strip().upper()\n",
    "            resseq  = line[22:26].strip()\n",
    "            icode   = line[26].strip()\n",
    "            key = (resseq, icode)\n",
    "            if key in seen:\n",
    "                continue\n",
    "            seen.add(key)\n",
    "            if resname not in AA3_TO_AA1:\n",
    "                continue\n",
    "            atom_seq.append(AA3_TO_AA1[resname])\n",
    "            atom_resids.append(resseq + (icode if icode else \"\"))\n",
    "\n",
    "    seqres_seq = \"\".join(AA3_TO_AA1.get(x.upper(), \"X\") for x in seqres_aa3)\n",
    "    atom_seq_s = \"\".join(atom_seq)\n",
    "    i_atom, j_seqres = _nw_align(atom_seq_s, seqres_seq)\n",
    "    atom_to_seqres = [-1]*len(atom_seq)\n",
    "    for a, b in zip(i_atom, j_seqres):\n",
    "        atom_to_seqres[a] = b\n",
    "\n",
    "    covered = set(j_seqres)\n",
    "    missing_seqres_positions = [j for j in range(len(seqres_seq)) if j not in covered]\n",
    "\n",
    "    return {\n",
    "        \"atom_seq\": atom_seq_s,                 \n",
    "        \"atom_resids\": atom_resids,            \n",
    "        \"seqres_seq\": seqres_seq,              \n",
    "        \"seqres_len\": len(seqres_seq),\n",
    "        \"atom_to_seqres\": atom_to_seqres,    \n",
    "        \"missing_seqres_positions\": missing_seqres_positions \n",
    "    }\n",
    "\n",
    "if __name__ == \"__main__\":\n",
    "    info = parse_chain_atom_and_seqres_with_mapping(\"../data/pdb/6q30.pdb\", \"A\")\n",
    "    print(f\"SEQRES length: {info['seqres_len']}\")\n",
    "    print(f\"ATOM length:   {len(info['atom_seq'])}\")\n",
    "    miss = info[\"missing_seqres_positions\"]\n",
    "    print(f\"Missing SEQRES positions (0-based): {miss}\")\n",
    "    if miss:\n",
    "        seq = info[\"seqres_seq\"]\n",
    "        print(\"Missing N-term fragment (1-letter):\", \"\".join(seq[i] for i in miss))"
   ]
  },
  {
   "cell_type": "markdown",
   "id": "5af7acda-693a-4c8f-ad45-8ced607ebe77",
   "metadata": {},
   "source": [
    "# Identifying differences in atomic positions"
   ]
  },
  {
   "cell_type": "code",
   "execution_count": 2,
   "id": "e90ec1cb-9be4-4818-945c-404c129e03d3",
   "metadata": {},
   "outputs": [
    {
     "name": "stdout",
     "output_type": "stream",
     "text": [
      "pos   2: Q -> K\n",
      "pos   6: W -> E\n",
      "pos  10: V -> L\n",
      "pos  11: V -> I\n",
      "pos  12: T -> Q\n",
      "pos  13: A -> I\n",
      "pos  31: S -> T\n",
      "pos  43: S -> E\n",
      "pos  53: F -> K\n",
      "pos  58: E -> L\n",
      "pos  62: V -> I\n",
      "pos  65: E -> K\n",
      "pos  70: K -> S\n",
      "pos  72: R -> T\n",
      "pos  74: T -> D\n",
      "pos  85: F -> L\n",
      "pos  95: M -> L\n",
      "pos  98: N -> T\n",
      "\n",
      "Total differences: 18 (Hamming distance)\n",
      "Positions only: [2, 6, 10, 11, 12, 13, 31, 43, 53, 58, 62, 65, 70, 72, 74, 85, 95, 98]\n"
     ]
    }
   ],
   "source": [
    "a = \"PQFSLWKRPVVTAYIEGQPVEVLLDTGADDSIVAGIELGNNYSPKIVGGIGGFINTKEYKNVEIEVLNKKVRATIMTGDTPINIFGRNILTALGMSLNL\"\n",
    "b = \"PKFSLEKRPLIQIYIEGQPVEVLLDTGADDTIVAGIELGNNYEPKIVGGIGGKINTKLYKNIEIKVLNKSVTADIMTGDTPINILGRNILTALGLSLTL\"\n",
    "\n",
    "if len(a) != len(b):\n",
    "    print(f\"Length mismatch: len(a)={len(a)}, len(b)={len(b)}\")\n",
    "\n",
    "diffs = []\n",
    "for i, (ca, cb) in enumerate(zip(a, b), start=1):  \n",
    "    if ca != cb:\n",
    "        diffs.append((i, ca, cb))\n",
    "        print(f\"pos {i:3d}: {ca} -> {cb}\")\n",
    "\n",
    "print(f\"\\nTotal differences: {len(diffs)} (Hamming distance)\")\n",
    "print(\"Positions only:\", [pos for pos, _, _ in diffs])"
   ]
  },
  {
   "cell_type": "code",
   "execution_count": null,
   "id": "eb6b1616-6703-45a9-a23f-b6c725aab1f7",
   "metadata": {},
   "outputs": [],
   "source": []
  }
 ],
 "metadata": {
  "kernelspec": {
   "display_name": "proteinenv",
   "language": "python",
   "name": "proteinenv"
  },
  "language_info": {
   "codemirror_mode": {
    "name": "ipython",
    "version": 3
   },
   "file_extension": ".py",
   "mimetype": "text/x-python",
   "name": "python",
   "nbconvert_exporter": "python",
   "pygments_lexer": "ipython3",
   "version": "3.12.11"
  }
 },
 "nbformat": 4,
 "nbformat_minor": 5
}
