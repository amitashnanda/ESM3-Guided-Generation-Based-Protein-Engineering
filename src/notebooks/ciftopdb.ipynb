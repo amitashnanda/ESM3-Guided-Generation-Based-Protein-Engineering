{
 "cells": [
  {
   "cell_type": "code",
   "execution_count": 1,
   "id": "7f775bbe",
   "metadata": {},
   "outputs": [],
   "source": [
    "import gemmi"
   ]
  },
  {
   "cell_type": "code",
   "execution_count": 6,
   "id": "2f6c06a1",
   "metadata": {},
   "outputs": [],
   "source": [
    "import gemmi\n",
    "path = \"/pscratch/sd/a/ananda/protein_ai/data/cif/6q30.cif\"\n",
    "st = gemmi.read_structure(path)\n",
    "tmp_pdb = \"/pscratch/sd/a/ananda/protein_ai/data/pdb/6q30.pdb\"\n",
    "st.write_pdb(tmp_pdb)"
   ]
  },
  {
   "cell_type": "code",
   "execution_count": null,
   "id": "99f730de",
   "metadata": {},
   "outputs": [],
   "source": []
  }
 ],
 "metadata": {
  "kernelspec": {
   "display_name": "proteinenv",
   "language": "python",
   "name": "proteinenv"
  },
  "language_info": {
   "codemirror_mode": {
    "name": "ipython",
    "version": 3
   },
   "file_extension": ".py",
   "mimetype": "text/x-python",
   "name": "python",
   "nbconvert_exporter": "python",
   "pygments_lexer": "ipython3",
   "version": "3.12.11"
  }
 },
 "nbformat": 4,
 "nbformat_minor": 5
}
